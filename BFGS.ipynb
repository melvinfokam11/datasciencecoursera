{
  "nbformat": 4,
  "nbformat_minor": 0,
  "metadata": {
    "colab": {
      "provenance": [],
      "authorship_tag": "ABX9TyPGEzqQz4TE1CxU3JJb83p8",
      "include_colab_link": true
    },
    "kernelspec": {
      "name": "python3",
      "display_name": "Python 3"
    },
    "language_info": {
      "name": "python"
    }
  },
  "cells": [
    {
      "cell_type": "markdown",
      "metadata": {
        "id": "view-in-github",
        "colab_type": "text"
      },
      "source": [
        "<a href=\"https://colab.research.google.com/github/melvinfokam11/datasciencecoursera/blob/tp/BFGS.ipynb\" target=\"_parent\"><img src=\"https://colab.research.google.com/assets/colab-badge.svg\" alt=\"Open In Colab\"/></a>"
      ]
    },
    {
      "cell_type": "markdown",
      "source": [
        "\n",
        "\n",
        "1.  implementation des methodes d'optimisation\n",
        "\n"
      ],
      "metadata": {
        "id": "NFk7VwGD0pYM"
      }
    },
    {
      "cell_type": "code",
      "source": [
        "#methode BFGS"
      ],
      "metadata": {
        "id": "WOhf_A7i0r9z"
      },
      "execution_count": 16,
      "outputs": []
    },
    {
      "cell_type": "markdown",
      "source": [
        "pour le faire nous allons suivre les etapes suivantes:\n",
        "\n",
        "1.   Élément de liste\n",
        "\n",
        "1.   Élément de liste\n",
        "2.   Élément de liste\n",
        "\n",
        "\n",
        "2.   Élément de liste\n",
        "\n"
      ],
      "metadata": {
        "id": "5sDwv-MJ07kX"
      }
    },
    {
      "cell_type": "code",
      "execution_count": 17,
      "metadata": {
        "id": "4mN7ZITq0ijT"
      },
      "outputs": [],
      "source": [
        "#importation des bibliotheques utiles \n",
        "from scipy.optimize import minimize \n",
        "from numpy.random import rand"
      ]
    },
    {
      "cell_type": "code",
      "source": [
        "#definition de la fonction objectif\n",
        "def objective(x):\n",
        "  return x[0]**2 +x[1]**2"
      ],
      "metadata": {
        "id": "iUTSPz7Q1NZI"
      },
      "execution_count": 18,
      "outputs": []
    },
    {
      "cell_type": "code",
      "source": [
        "#definition de la fonction de derivation\n",
        "def derivate(x):\n",
        "  return[x[0]*2,x[1]*2]"
      ],
      "metadata": {
        "id": "yWOKXOb81gSM"
      },
      "execution_count": 19,
      "outputs": []
    },
    {
      "cell_type": "code",
      "source": [
        "#definition de l'intervalle de recherche \n",
        "r_min,r_max=-5.0,5.0"
      ],
      "metadata": {
        "id": "i-lUAaL91u0G"
      },
      "execution_count": 20,
      "outputs": []
    },
    {
      "cell_type": "code",
      "source": [
        "#definition du choix d'un point aleatoire dans l'intervalle de recherche\n",
        "pt=r_min+rand(2)*(r_max-r_min)"
      ],
      "metadata": {
        "id": "qiVwBAkg17El"
      },
      "execution_count": 21,
      "outputs": []
    },
    {
      "cell_type": "code",
      "source": [
        "#defenition de notre fonction bfgs\n",
        "result=minimize(objective,pt,method='BFGS',jac=derivate)"
      ],
      "metadata": {
        "id": "q1rzr3WL2UCl"
      },
      "execution_count": 22,
      "outputs": []
    },
    {
      "cell_type": "code",
      "source": [
        "#affichage des resultats\n",
        "print('status: %s'%result['message'])\n",
        "print('total evaluation: %d'%result['nfev'])\n"
      ],
      "metadata": {
        "colab": {
          "base_uri": "https://localhost:8080/"
        },
        "id": "JnBCpOJG2kfx",
        "outputId": "def162df-88e5-4962-c948-0a43c51525be"
      },
      "execution_count": 23,
      "outputs": [
        {
          "output_type": "stream",
          "name": "stdout",
          "text": [
            "status: Optimization terminated successfully.\n",
            "total evaluation: 4\n"
          ]
        }
      ]
    },
    {
      "cell_type": "code",
      "source": [
        "#evaluation de la solution trouve\n",
        "solution=result['x']\n",
        "evaluation=objective(solution)\n",
        "print('solution:f(%s)=%.5f' % (solution,evaluation))"
      ],
      "metadata": {
        "colab": {
          "base_uri": "https://localhost:8080/"
        },
        "id": "cHvLDgQi3CjZ",
        "outputId": "a40b7756-407e-40fe-e2e0-7ad80d3eb870"
      },
      "execution_count": 24,
      "outputs": [
        {
          "output_type": "stream",
          "name": "stdout",
          "text": [
            "solution:f([-4.44089210e-16 -3.33066907e-16])=0.00000\n"
          ]
        }
      ]
    },
    {
      "cell_type": "code",
      "source": [
        "2#creation de L-bfgs-b \n"
      ],
      "metadata": {
        "id": "o1DnCrHj3waH"
      },
      "execution_count": 25,
      "outputs": []
    },
    {
      "cell_type": "markdown",
      "source": [
        "il es a noter que l-bfgs-b a un avantage notable notamment le fait qu'il necessite moins de memoire "
      ],
      "metadata": {
        "id": "Z1kZGWX131tx"
      }
    },
    {
      "cell_type": "code",
      "source": [
        "#construction de l-bfgs-b\n",
        "result1=minimize(objective,pt,method='L-BFGS-B',jac=derivate)"
      ],
      "metadata": {
        "id": "aGp1AfBD4Iep"
      },
      "execution_count": 27,
      "outputs": []
    },
    {
      "cell_type": "code",
      "source": [
        "#affichage des resultats\n",
        "print('status: %s'%result1['message'])\n",
        "print('total evaluation: %d'%result1['nfev'])\n"
      ],
      "metadata": {
        "colab": {
          "base_uri": "https://localhost:8080/"
        },
        "id": "3lfYwr095dKA",
        "outputId": "9de02e27-f8ec-4bab-ee14-098f8c9f3621"
      },
      "execution_count": 28,
      "outputs": [
        {
          "output_type": "stream",
          "name": "stdout",
          "text": [
            "status: CONVERGENCE: NORM_OF_PROJECTED_GRADIENT_<=_PGTOL\n",
            "total evaluation: 3\n"
          ]
        }
      ]
    },
    {
      "cell_type": "code",
      "source": [
        "#evaluation de la solution trouve\n",
        "solution=result1['x']\n",
        "evaluation=objective(solution)\n",
        "print('solution:f(%s)=%.5f' % (solution,evaluation))"
      ],
      "metadata": {
        "colab": {
          "base_uri": "https://localhost:8080/"
        },
        "id": "No1TQXPw5mfN",
        "outputId": "c1d089a8-4052-4db6-a812-1c6d7d68a4e5"
      },
      "execution_count": 30,
      "outputs": [
        {
          "output_type": "stream",
          "name": "stdout",
          "text": [
            "solution:f([-2.22044605e-16  8.88178420e-16])=0.00000\n"
          ]
        }
      ]
    }
  ]
}