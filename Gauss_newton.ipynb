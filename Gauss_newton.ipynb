{
  "nbformat": 4,
  "nbformat_minor": 0,
  "metadata": {
    "colab": {
      "provenance": [],
      "authorship_tag": "ABX9TyNph220L8+dwXn6n6eFGysG",
      "include_colab_link": true
    },
    "kernelspec": {
      "name": "python3",
      "display_name": "Python 3"
    },
    "language_info": {
      "name": "python"
    }
  },
  "cells": [
    {
      "cell_type": "markdown",
      "metadata": {
        "id": "view-in-github",
        "colab_type": "text"
      },
      "source": [
        "<a href=\"https://colab.research.google.com/github/melvinfokam11/datasciencecoursera/blob/tp/Gauss_newton.ipynb\" target=\"_parent\"><img src=\"https://colab.research.google.com/assets/colab-badge.svg\" alt=\"Open In Colab\"/></a>"
      ]
    },
    {
      "cell_type": "markdown",
      "source": [
        "#optimisation numerique basee sur la methode de L-BGFS"
      ],
      "metadata": {
        "id": "vv6Yx8kr8hLw"
      }
    },
    {
      "cell_type": "code",
      "execution_count": 1,
      "metadata": {
        "id": "5vPAlui07NxF"
      },
      "outputs": [],
      "source": [
        "#implementation de la methode L-BGFS pour la fonction de rosemberg\n",
        "#importation des bibliotheques\n",
        "from scipy.optimize import minimize\n",
        "from scipy.optimize import rosen, rosen_der\n",
        "import numpy as np\n",
        "from matplotlib import cm\n",
        "import matplotlib.pyplot as plt\n",
        "import time\n",
        "np.random.seed(122)"
      ]
    },
    {
      "cell_type": "code",
      "source": [
        "#definition de la fonction d' affichage  \n",
        "def plot_objective(objective):\n",
        "    # representation de la fonction\n",
        "    figRos = plt.figure(figsize=(12, 7))\n",
        "    axRos = plt.subplot(111, projection='3d')\n",
        "\n",
        "    # evaluation de la fonction\n",
        "    X = np.arange(-1, 1, 0.15)\n",
        "    Y = np.arange(-1, 1, 0.15)\n",
        "    X, Y = np.meshgrid(X, Y)\n",
        "    XX = (X,Y)\n",
        "    Z = objective(XX)\n",
        "\n",
        "    # affichage des surface formee\n",
        "    surf = axRos.plot_surface(X, Y, Z, cmap=cm.gist_heat_r,\n",
        "                        linewidth=0, antialiased=False)\n",
        "    axRos.set_zlim(0, 50)\n",
        "    figRos.colorbar(surf, shrink=0.5, aspect=10)\n",
        "    #sauvegarde des figures crees\n",
        "    plt.savefig('objective_function.png',bbox_inches='tight', dpi=200)\n",
        "    plt.close()\n"
      ],
      "metadata": {
        "id": "Ak1IPbTE-GrJ"
      },
      "execution_count": 3,
      "outputs": []
    },
    {
      "cell_type": "code",
      "source": [
        "## Rosenbrock function\n",
        "# fonction objective\n",
        "b = 10\n",
        "def objective(x):\n",
        "    f = (x[0]-1)**2 + b*(x[1]-x[0]**2)**2\n",
        "    return f\n",
        "plot_objective(objective)\n",
        "\n",
        "# dfonction derivee de la fonction objective\n",
        "def derivative(x):\n",
        "    df = np.array([2*(x[0]-1) - 4*b*(x[1] - x[0]**2)*x[0], \\\n",
        "                         2*b*(x[1]-x[0]**2)])\n",
        "    return df\n",
        "\n",
        "#cette fonction nous permet d'evaluer le temps mis par l'algorithme \n",
        "starttime = time.perf_counter()\n",
        "# definition de l'intervale des donnees\n",
        "r_min, r_max = -1.0, 1.0\n",
        "\n",
        "# definition du point de depart dans l'interval ainsi construit plus haut\n",
        "pt = r_min + np.random.rand(2) * (r_max - r_min)\n",
        "print('initial input pt: ', pt)\n",
        "\n",
        "# construction de l'algorithme L-BFGS\n",
        "result = minimize(objective, pt, method='L-BFGS-B', jac=derivative)\n",
        "print(f\"Total time taken for the minimization: {time.perf_counter()-starttime:.4f}s\")\n",
        "# affichage des resultats\n",
        "print('Status : %s' % result['message'])\n",
        "print('Total Evaluations: %d' % result['nfev'])\n",
        "\n",
        "\n",
        "# evaluation de la solution\n",
        "solution = result['x']\n",
        "evaluation = objective(solution)\n",
        "print('Solution: f(%s) = %.5f' % (solution, evaluation))"
      ],
      "metadata": {
        "colab": {
          "base_uri": "https://localhost:8080/"
        },
        "id": "a3lQmOPG_D3Z",
        "outputId": "f9a15d4a-35f5-479c-f43f-a65d39129ef1"
      },
      "execution_count": 11,
      "outputs": [
        {
          "output_type": "stream",
          "name": "stdout",
          "text": [
            "initial input pt:  [-0.18386947  0.22308242]\n",
            "Total time taken for the minimization: 0.0033s\n",
            "Status : CONVERGENCE: NORM_OF_PROJECTED_GRADIENT_<=_PGTOL\n",
            "Total Evaluations: 19\n",
            "Solution: f([1.         0.99999999]) = 0.00000\n"
          ]
        }
      ]
    },
    {
      "cell_type": "markdown",
      "source": [],
      "metadata": {
        "id": "zkvs3-ycBHdM"
      }
    },
    {
      "cell_type": "code",
      "source": [
        "\n"
      ],
      "metadata": {
        "colab": {
          "base_uri": "https://localhost:8080/"
        },
        "id": "br4MYz8xBH9I",
        "outputId": "8ad2d26b-089c-49c0-91dc-7360b96cc6c2"
      },
      "execution_count": 14,
      "outputs": [
        {
          "output_type": "execute_result",
          "data": {
            "text/plain": [
              "254"
            ]
          },
          "metadata": {},
          "execution_count": 14
        }
      ]
    }
  ]
}