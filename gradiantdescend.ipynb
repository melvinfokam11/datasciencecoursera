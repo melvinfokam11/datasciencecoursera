{
  "nbformat": 4,
  "nbformat_minor": 0,
  "metadata": {
    "colab": {
      "provenance": [],
      "authorship_tag": "ABX9TyOPuEXc1ftLh7YoStN7ATa9",
      "include_colab_link": true
    },
    "kernelspec": {
      "name": "python3",
      "display_name": "Python 3"
    },
    "language_info": {
      "name": "python"
    }
  },
  "cells": [
    {
      "cell_type": "markdown",
      "metadata": {
        "id": "view-in-github",
        "colab_type": "text"
      },
      "source": [
        "<a href=\"https://colab.research.google.com/github/melvinfokam11/datasciencecoursera/blob/tp/gradiantdescend.ipynb\" target=\"_parent\"><img src=\"https://colab.research.google.com/assets/colab-badge.svg\" alt=\"Open In Colab\"/></a>"
      ]
    },
    {
      "cell_type": "code",
      "execution_count": 1,
      "metadata": {
        "id": "AU8Y-08bBfEG"
      },
      "outputs": [],
      "source": [
        "#implementation de la methode de descente de gradient"
      ]
    },
    {
      "cell_type": "code",
      "source": [
        "# importation des librairies necessaires\n",
        "import numpy as np\n",
        "import time\n",
        "from scipy.optimize import minimize\n",
        "from scipy.optimize import rosen, rosen_der\n",
        "import numpy as np\n",
        "from matplotlib import cm\n",
        "import matplotlib.pyplot as plt\n",
        "import time\n",
        "np.random.seed(122)\n",
        "starttime = time.perf_counter()"
      ],
      "metadata": {
        "id": "Q_lrh9tNB_uw"
      },
      "execution_count": 3,
      "outputs": []
    },
    {
      "cell_type": "code",
      "source": [
        "# define range for the inputs\n",
        "r_min, r_max = -1.0, 1.0\n",
        "\n",
        "# definine the starting point as a randdom point in the domain\n",
        "cur_x = r_min + np.random.rand(2) * (r_max - r_min)\n",
        "\n",
        "rate = 0.01 # Learning rate\n",
        "precision = 0.000001 #This tells us when to stop the algorithm\n",
        "previous_step_size = 1 #\n",
        "max_iters = 10000 # maximum number of iterations\n",
        "iters = 0 #iteration counter\n",
        "\n",
        "\n",
        "## Rosenbrock function\n",
        "# objective function\n",
        "b = 30\n",
        "def objective(x):\n",
        "    f = (x[0]-1)**2 + b*(x[1]-x[0]**2)**2\n",
        "    return f\n",
        "\n",
        "\n",
        "# derivative of the objective function\n",
        "def derivative(x):\n",
        "    df = np.array([2*(x[0]-1) - 4*b*(x[1] - x[0]**2)*x[0], \\\n",
        "                         2*b*(x[1]-x[0]**2)])\n",
        "    return df\n",
        "\n",
        "\n",
        "while previous_step_size > precision and iters < max_iters:\n",
        "    prev_x = cur_x #Store current x value in prev_x\n",
        "    cur_x = cur_x - rate * derivative(prev_x) #Grad descent\n",
        "    previous_step_size = sum(abs(cur_x - prev_x)) #Change in x\n",
        "    iters = iters+1 #iteration count\n",
        "print(f\"Total time taken for the minimization: {time.perf_counter()-starttime:.4f}s\")\n",
        "print(\"The local minimum occurs at point\", cur_x, \"for iteration:\", iters)"
      ],
      "metadata": {
        "colab": {
          "base_uri": "https://localhost:8080/"
        },
        "id": "LQt5jNkACVu1",
        "outputId": "28158a2c-199f-4ead-ed84-e6921d747170"
      },
      "execution_count": 4,
      "outputs": [
        {
          "output_type": "stream",
          "name": "stdout",
          "text": [
            "Total time taken for the minimization: 3.8729s\n",
            "The local minimum occurs at point [0.71700671 0.60730455] for iteration: 10000\n"
          ]
        }
      ]
    }
  ]
}